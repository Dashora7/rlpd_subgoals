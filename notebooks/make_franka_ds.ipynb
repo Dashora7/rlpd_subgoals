{
 "cells": [
  {
   "cell_type": "code",
   "execution_count": 1,
   "metadata": {},
   "outputs": [
    {
     "name": "stderr",
     "output_type": "stream",
     "text": [
      "/nfs/kun2/users/dashora7/miniconda/envs/rlpd11_franka/lib/python3.9/site-packages/Cython/Distutils/old_build_ext.py:15: DeprecationWarning: dep_util is Deprecated. Use functions from setuptools instead.\n",
      "  from distutils.dep_util import newer, newer_group\n"
     ]
    },
    {
     "name": "stdout",
     "output_type": "stream",
     "text": [
      "Choosing the latest nvidia driver: /usr/lib/nvidia-465, among ['/usr/lib/nvidia-375', '/usr/lib/nvidia-465']\n",
      "Choosing the latest nvidia driver: /usr/lib/nvidia-465, among ['/usr/lib/nvidia-375', '/usr/lib/nvidia-465']\n"
     ]
    },
    {
     "name": "stderr",
     "output_type": "stream",
     "text": [
      "Warning: Flow failed to import. Set the environment variable D4RL_SUPPRESS_IMPORT_ERROR=1 to suppress this message.\n",
      "No module named 'flow'\n"
     ]
    },
    {
     "name": "stdout",
     "output_type": "stream",
     "text": [
      "[(0, 51), (183, 233), (368, 421), (559, 610), (754, 815), (960, 1012), (1155, 1205), (1719, 1770), (1913, 1965), (2304, 2355), (2496, 2553), (2690, 2741), (2873, 2932), (3283, 3333)]\n"
     ]
    },
    {
     "name": "stderr",
     "output_type": "stream",
     "text": [
      "Warning: CARLA failed to import. Set the environment variable D4RL_SUPPRESS_IMPORT_ERROR=1 to suppress this message.\n",
      "No module named 'carla'\n"
     ]
    }
   ],
   "source": [
    "import h5py\n",
    "import gym\n",
    "from d4rl.kitchen.kitchen_envs import KitchenBase\n",
    "import imageio\n",
    "import numpy as np\n",
    "from PIL import Image\n",
    "from d4rl.kitchen.kitchen_envs import OBS_ELEMENT_INDICES, OBS_ELEMENT_GOALS\n",
    "BONUS_THRESH = 0.3\n",
    "# load data\n",
    "f = h5py.File('/nfs/kun2/users/dashora7/franka_datasets/complete-v0.hdf5')\n",
    "rews = f['rewards'][:]\n",
    "terms = f['terminals'][:]\n",
    "actions = f['actions'][:]\n",
    "\n",
    "# every time we hit a 1.0 reward, we have a new end of trajectory\n",
    "# starts are after terminals\n",
    "starts = [0] + list(terms.nonzero()[0])\n",
    "ends = (np.diff(rews) == 1.0) & (rews[1:] == 1.0)\n",
    "ends = ends.nonzero()[0]\n",
    "trajs = [(s, e + 10) for s, e in zip(starts, ends)]\n",
    "trajs[-1] = (trajs[-1][0], trajs[-1][1])\n",
    "trajs.pop(8)\n",
    "trajs.pop(10)\n",
    "trajs.pop(16)\n",
    "trajs.pop(7)\n",
    "trajs.pop(13)\n",
    "print(trajs)"
   ]
  },
  {
   "cell_type": "code",
   "execution_count": 7,
   "metadata": {},
   "outputs": [
    {
     "name": "stderr",
     "output_type": "stream",
     "text": [
      "/home/dashora7/franka_d4rl/d4rl/kitchen/adept_envs/franka/robot/franka_robot.py:103: DeprecationWarning: Conversion of an array with ndim > 0 to a scalar is deprecated, and will error in future. Ensure you extract a single element from your array before performing this operation. (Deprecated NumPy 1.25.)\n",
      "  self.robot_mode[i] = read_config_from_node(\n",
      "/nfs/kun2/users/dashora7/miniconda/envs/rlpd11_franka/lib/python3.9/site-packages/dm_control/mujoco/wrapper/util.py:218: DeprecationWarning: `product` is deprecated as of NumPy 1.25.0, and will be removed in NumPy 2.0. Please use `prod` instead.\n",
      "  arr = _as_array(src, shape)\n",
      "/nfs/kun2/users/dashora7/miniconda/envs/rlpd11_franka/lib/python3.9/site-packages/gym/spaces/box.py:84: UserWarning: \u001b[33mWARN: Box bound precision lowered by casting to float32\u001b[0m\n",
      "  logger.warn(f\"Box bound precision lowered by casting to {self.dtype}\")\n"
     ]
    }
   ],
   "source": [
    "env = KitchenBase(\n",
    "    control_mode='joint_velocity',\n",
    "    image_obs=True, imwidth=128, imheight=128,\n",
    "    dense=False, frame_skip=40)\n",
    "\n",
    "obses = []\n",
    "dones = []\n",
    "rewards = []\n",
    "actions = []\n",
    "\n",
    "for traj in trajs:\n",
    "    atraj = f['actions'][traj[0]:traj[1] + 1]\n",
    "    env.reset()\n",
    "    im = env.render(mode=\"rgb_array\")\n",
    "    im = np.array(Image.fromarray(im).resize((128, 128)))\n",
    "    obses.append(im)\n",
    "\n",
    "    _, goal_qp, _, _, _ = env.robot.get_obs(env, robot_noise_ratio=0)\n",
    "    done = False\n",
    "    success = False\n",
    "    imgs = []\n",
    "    for i in range(0, atraj.shape[0]):\n",
    "        a = atraj[i]\n",
    "        o, r, d, i = env.step(a)\n",
    "        \n",
    "        t, next_q_obs, qv, next_obj_obs, obj_qv = env.robot.get_obs(\n",
    "            env, robot_noise_ratio=env.robot_noise_ratio\n",
    "        )\n",
    "        idx_offset = len(next_q_obs)\n",
    "        \n",
    "        element_idx = OBS_ELEMENT_INDICES[\"microwave\"]\n",
    "        distance = np.linalg.norm(\n",
    "            next_obj_obs[..., element_idx - idx_offset] - OBS_ELEMENT_GOALS[\"microwave\"]\n",
    "        )\n",
    "        r = distance < BONUS_THRESH\n",
    "        if r:\n",
    "            success = True\n",
    "        \n",
    "        im = env.render(mode=\"rgb_array\")\n",
    "        im = np.array(Image.fromarray(im).resize((128, 128)))\n",
    "        obses.append(im)\n",
    "        dones.append(0)\n",
    "        rewards.append(float(r))\n",
    "        actions.append(a)\n",
    "    dones[-1] = 1.0\n",
    "\n",
    "imageio.mimsave('debug.mp4', obses, fps=30)"
   ]
  },
  {
   "cell_type": "code",
   "execution_count": null,
   "metadata": {},
   "outputs": [],
   "source": [
    "# save as npy dict\n",
    "d = {\n",
    "    'observations':\n",
    "        {'image': np.array(obses)},\n",
    "    'dones_float': np.array(dones),\n",
    "    'rewards': np.array(rewards),\n",
    "    'actions': np.array(actions)\n",
    "}\n",
    "np.save('/nfs/kun2/users/dashora7/franka_datasets/microwave-optimal-fs40-jvel.npy', d)"
   ]
  },
  {
   "cell_type": "code",
   "execution_count": 2,
   "metadata": {},
   "outputs": [],
   "source": [
    "# make a sticky random smooth sampler\n",
    "base_sampler = lambda: np.random.normal(0, 0.15)\n",
    "class SmoothSampler:\n",
    "    def __init__(self, std, smooth=0.9):\n",
    "        self.std = std\n",
    "        self.smooth = smooth\n",
    "        self.prev = 0\n",
    "    def __call__(self):\n",
    "        self.prev = self.smooth * self.prev + (1 - self.smooth) * np.random.normal(0, self.std)\n",
    "        return self.prev\n",
    "    def reset(self):\n",
    "        self.prev = 0"
   ]
  },
  {
   "cell_type": "code",
   "execution_count": 3,
   "metadata": {},
   "outputs": [
    {
     "name": "stderr",
     "output_type": "stream",
     "text": [
      "/home/dashora7/franka_d4rl/d4rl/kitchen/adept_envs/franka/robot/franka_robot.py:103: DeprecationWarning: Conversion of an array with ndim > 0 to a scalar is deprecated, and will error in future. Ensure you extract a single element from your array before performing this operation. (Deprecated NumPy 1.25.)\n",
      "  self.robot_mode[i] = read_config_from_node(\n",
      "/nfs/kun2/users/dashora7/miniconda/envs/rlpd11_franka/lib/python3.9/site-packages/dm_control/mujoco/wrapper/util.py:218: DeprecationWarning: `product` is deprecated as of NumPy 1.25.0, and will be removed in NumPy 2.0. Please use `prod` instead.\n",
      "  arr = _as_array(src, shape)\n",
      "/nfs/kun2/users/dashora7/miniconda/envs/rlpd11_franka/lib/python3.9/site-packages/gym/spaces/box.py:84: UserWarning: \u001b[33mWARN: Box bound precision lowered by casting to float32\u001b[0m\n",
      "  logger.warn(f\"Box bound precision lowered by casting to {self.dtype}\")\n"
     ]
    },
    {
     "ename": "SystemExit",
     "evalue": "0",
     "output_type": "error",
     "traceback": [
      "An exception has occurred, use %tb to see the full traceback.\n",
      "\u001b[0;31mSystemExit\u001b[0m\u001b[0;31m:\u001b[0m 0\n"
     ]
    },
    {
     "name": "stderr",
     "output_type": "stream",
     "text": [
      "/nfs/kun2/users/dashora7/miniconda/envs/rlpd11_franka/lib/python3.9/site-packages/IPython/core/interactiveshell.py:3558: UserWarning: To exit: use 'exit', 'quit', or Ctrl-D.\n",
      "  warn(\"To exit: use 'exit', 'quit', or Ctrl-D.\", stacklevel=1)\n"
     ]
    }
   ],
   "source": [
    "# make kitchen env and follow actions and render\n",
    "# env = KitchenBase(control_mode='joint_velocity')\n",
    "\n",
    "env = KitchenBase(\n",
    "    control_mode='joint_velocity',\n",
    "    image_obs=True, imwidth=128, imheight=128,\n",
    "    dense=False, frame_skip=16)\n",
    "env.reset()\n",
    "\n",
    "\"\"\"im = env.render(mode=\"rgb_array\")\n",
    "Image.fromarray(im).save(\"tempimg.png\")\n",
    "import sys; sys.exit(0)\"\"\"\n",
    "\n",
    "print(env.quat_to_rpy(env.get_ee_quat()))\n",
    "obses = []\n",
    "dones = []\n",
    "rewards = []\n",
    "actions = []\n",
    "total, total_success = 0, 0\n",
    "noise_levels = [0, 0.05, 0.1, 0.2, 0.3, 0.5]\n",
    "num_trajs = 2000\n",
    "loops = (num_trajs / len(noise_levels)) / len(trajs)\n",
    "\n",
    "for noise in noise_levels:\n",
    "    smooth_sampler = SmoothSampler(noise, smooth=0.9)\n",
    "    # base_sampler = lambda: np.random.normal(0, min(0.1, noise))\n",
    "    for i in range(int(loops)):\n",
    "        for traj in trajs:\n",
    "            atraj = f['actions'][traj[0]:traj[1] + 1]\n",
    "            env.reset()\n",
    "            \n",
    "            im = env.render(mode=\"rgb_array\")\n",
    "            \n",
    "            im = np.array(Image.fromarray(im).resize((128, 128)))\n",
    "            obses.append(im)\n",
    "            # dones.append(0)\n",
    "            # rewards.append(0)\n",
    "            \n",
    "            \n",
    "            _, goal_qp, _, _, _ = env.robot.get_obs(env, robot_noise_ratio=0)\n",
    "            done = False\n",
    "            success = False\n",
    "            imgs = []\n",
    "            for i in range(0, atraj.shape[0]):\n",
    "                a = atraj[i]\n",
    "                # add epsilon noise\n",
    "                a = a + base_sampler() + smooth_sampler()\n",
    "                o, r, d, i = env.step(a)\n",
    "                \n",
    "                t, next_q_obs, qv, next_obj_obs, obj_qv = env.robot.get_obs(\n",
    "                    env, robot_noise_ratio=env.robot_noise_ratio\n",
    "                )\n",
    "                idx_offset = len(next_q_obs)\n",
    "                \n",
    "                element_idx = OBS_ELEMENT_INDICES[\"microwave\"]\n",
    "                distance = np.linalg.norm(\n",
    "                    next_obj_obs[..., element_idx - idx_offset] - OBS_ELEMENT_GOALS[\"microwave\"]\n",
    "                )\n",
    "                r = distance < BONUS_THRESH\n",
    "                if r:\n",
    "                    success = True\n",
    "                \n",
    "                im = env.render(mode=\"rgb_array\")\n",
    "                im = np.array(Image.fromarray(im).resize((128, 128)))\n",
    "                obses.append(im)\n",
    "                dones.append(0)\n",
    "                rewards.append(float(r))\n",
    "                actions.append(a)\n",
    "            for t in range(20):\n",
    "                _, qpos, qvel, _, _ = env.robot.get_obs(env, robot_noise_ratio=0)\n",
    "                delta = goal_qp - qpos\n",
    "                a = delta / 0.1\n",
    "                env.step(a)\n",
    "                im = env.render(mode=\"rgb_array\")\n",
    "                im = np.array(Image.fromarray(im).resize((128, 128)))\n",
    "                obses.append(im)\n",
    "                dones.append(0)\n",
    "                actions.append(a)\n",
    "                rewards.append(float(r))\n",
    "                if np.linalg.norm(delta) < 0.02:\n",
    "                    break   \n",
    "            \n",
    "            smooth_sampler.reset()\n",
    "            dones[-1] = 1.0\n",
    "            if success:\n",
    "                total_success += 1\n",
    "print(\"Success rate: \", total_success / num_trajs)\n",
    "# save video\n",
    "# imageio.mimsave('kitchen.mp4', obses, fps=30)"
   ]
  },
  {
   "cell_type": "code",
   "execution_count": 5,
   "metadata": {},
   "outputs": [],
   "source": [
    "# save as npy dict\n",
    "d = {\n",
    "    'observations':\n",
    "        {'image': np.array(obses)},\n",
    "    'dones_float': np.array(dones),\n",
    "    'rewards': np.array(rewards),\n",
    "    'actions': np.array(actions)\n",
    "}\n",
    "np.save('/nfs/kun2/users/dashora7/franka_datasets/microwave-custom-reset-jvel.npy', d)"
   ]
  },
  {
   "cell_type": "code",
   "execution_count": 60,
   "metadata": {},
   "outputs": [],
   "source": [
    "import pickle\n",
    "# save dict\n",
    "with open('/nfs/kun2/users/dashora7/franka_datasets/microwave_custom_reset.pkl', 'wb') as f:\n",
    "    pickle.dump(d, f)"
   ]
  }
 ],
 "metadata": {
  "kernelspec": {
   "display_name": "rlpd_franka",
   "language": "python",
   "name": "python3"
  },
  "language_info": {
   "codemirror_mode": {
    "name": "ipython",
    "version": 3
   },
   "file_extension": ".py",
   "mimetype": "text/x-python",
   "name": "python",
   "nbconvert_exporter": "python",
   "pygments_lexer": "ipython3",
   "version": "3.9.18"
  }
 },
 "nbformat": 4,
 "nbformat_minor": 2
}
